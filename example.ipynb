{
 "cells": [
  {
   "cell_type": "code",
   "execution_count": 1,
   "metadata": {},
   "outputs": [],
   "source": [
    "from pymanopt.manifolds import Grassmann, ComplexGrassmann, SpecialOrthogonalGroup, Euclidean\n",
    "import numpy as np\n",
    "from compute_centroid import *\n",
    "from grass_DR import *\n",
    "from PNG import *\n",
    "from sklearn.decomposition import PCA\n",
    "from PGA import *\n",
    "from Complex_PCA import *\n",
    "import matplotlib.pyplot as plt"
   ]
  },
  {
   "cell_type": "markdown",
   "metadata": {},
   "source": [
    "# Example 1: 15 points on Gr(2, 6) embedded in Gr(2, 10) "
   ]
  },
  {
   "cell_type": "markdown",
   "metadata": {},
   "source": [
    "## Generate data"
   ]
  },
  {
   "cell_type": "code",
   "execution_count": 2,
   "metadata": {},
   "outputs": [],
   "source": [
    "m = 6\n",
    "n = 10\n",
    "p = 2\n",
    "N = 15\n",
    "sig = 0\n",
    "gr_low = Grassmann(m, p, N)\n",
    "gr = Grassmann(n, p, N)\n",
    "gr_map = Grassmann(n, m)\n",
    "\n",
    "X_low = gr_low.rand() # N x m x p\n",
    "A = gr_map.rand() # n x m\n",
    "#B = np.random.normal(0, 0.1, (n, p)) # n x p\n",
    "B = np.zeros((n,p))\n",
    "AAT = np.matmul(A, A.T) \n",
    "IAATB = np.matmul(np.eye(n) - AAT, B)\n",
    "X = np.array([np.linalg.qr(np.matmul(A, X_low[i]) + IAATB)[0] for i in range(N)]) # N x n x p\n",
    "X = gr.exp(X, sig * gr.randvec(X)) # perturb the emdedded X"
   ]
  },
  {
   "cell_type": "markdown",
   "metadata": {},
   "source": [
    "## Compute the score using PNG and apply PCA to the scores"
   ]
  },
  {
   "cell_type": "code",
   "execution_count": 3,
   "metadata": {},
   "outputs": [
    {
     "name": "stdout",
     "output_type": "stream",
     "text": [
      "Gr(2, 10) -> Gr(2, 9)\n",
      "Terminated - min grad norm reached after 130 iterations, 0.79 seconds.\n",
      "\n",
      "Gr(2, 9) -> Gr(2, 8)\n",
      "Terminated - min grad norm reached after 70 iterations, 0.41 seconds.\n",
      "\n",
      "Gr(2, 8) -> Gr(2, 7)\n",
      "Terminated - min grad norm reached after 49 iterations, 0.29 seconds.\n",
      "\n",
      "Gr(2, 7) -> Gr(2, 6)\n",
      "Terminated - min grad norm reached after 42 iterations, 0.26 seconds.\n",
      "\n",
      "Gr(2, 6) -> Gr(2, 5)\n",
      "Terminated - min grad norm reached after 512 iterations, 2.78 seconds.\n",
      "\n",
      "Gr(2, 5) -> Gr(2, 4)\n",
      "Terminated - min grad norm reached after 223 iterations, 1.21 seconds.\n",
      "\n",
      "Gr(2, 4) -> Gr(2, 3)\n",
      "Terminated - max iterations reached after 5.53 seconds.\n",
      "\n",
      "Gr(2, 3) -> Gr(1, 3)\n",
      "Gr(1, 3) -> Gr(1, 2)\n",
      "Terminated - min grad norm reached after 37 iterations, 0.23 seconds.\n",
      "\n",
      "Gr(1, 2) -> NGM\n"
     ]
    }
   ],
   "source": [
    "scores_PNG = PNG(X, verbosity = 1)"
   ]
  },
  {
   "cell_type": "code",
   "execution_count": 4,
   "metadata": {},
   "outputs": [
    {
     "name": "stdout",
     "output_type": "stream",
     "text": [
      "The ratios of expressed variance of the first 5 PCs.\n",
      "[0.47 0.23 0.11 0.09 0.07]\n",
      "The cumulative ratios of expressed variance of the first 5 PCs.\n",
      "[0.47 0.71 0.81 0.9  0.97]\n"
     ]
    }
   ],
   "source": [
    "n_c = 5\n",
    "pca = PCA(n_components = n_c)\n",
    "pca.fit(scores_PNG)\n",
    "print(f'The ratios of expressed variance of the first {n_c} PCs.')\n",
    "print(pca.explained_variance_ratio_.round(2))\n",
    "print(f'The cumulative ratios of expressed variance of the first {n_c} PCs.')\n",
    "print(np.cumsum(pca.explained_variance_ratio_).round(2))"
   ]
  },
  {
   "cell_type": "markdown",
   "metadata": {},
   "source": [
    "## PGA"
   ]
  },
  {
   "cell_type": "code",
   "execution_count": 5,
   "metadata": {},
   "outputs": [
    {
     "name": "stdout",
     "output_type": "stream",
     "text": [
      "The ratios of expressed variance of the first 5 PCs.\n",
      "[0.26 0.25 0.16 0.12 0.07]\n",
      "The cumulative ratios of expressed variance of the first 5 PCs.\n",
      "[0.26 0.51 0.67 0.79 0.86]\n"
     ]
    }
   ],
   "source": [
    "gr = Grassmann(n, p)\n",
    "n_c = 5\n",
    "pga = PGA(X, n_c, gr)\n",
    "\n",
    "print(f'The ratios of expressed variance of the first {n_c} PCs.')\n",
    "print(pga.explained_variance_ratio_.round(2))\n",
    "print(f'The cumulative ratios of expressed variance of the first {n_c} PCs.')\n",
    "print(np.cumsum(pga.explained_variance_ratio_).round(2))"
   ]
  },
  {
   "cell_type": "markdown",
   "metadata": {},
   "source": [
    "# Example 2: 15 points on Gr(2, $C^4$) embedded in Gr(2, $C^5$) "
   ]
  },
  {
   "cell_type": "markdown",
   "metadata": {},
   "source": [
    "## Generate data"
   ]
  },
  {
   "cell_type": "code",
   "execution_count": 12,
   "metadata": {},
   "outputs": [],
   "source": [
    "m = 4\n",
    "n = 5\n",
    "p = 2\n",
    "N = 15\n",
    "sig = 0.1\n",
    "cgr_low = ComplexGrassmann(m, p, N)\n",
    "cgr = ComplexGrassmann(n, p, N)\n",
    "cgr_map = ComplexGrassmann(n, m)\n",
    "\n",
    "X_low = cgr_low.rand() # N x m x p\n",
    "A = cgr_map.rand() # n x m\n",
    "#B = np.random.normal(0, 0.1, (n, p)) # n x p\n",
    "B = np.zeros((n,p))\n",
    "AAT = np.matmul(A, A.conj().T) \n",
    "IAATB = np.matmul(np.eye(n) - AAT, B)\n",
    "X = np.array([np.linalg.qr(np.matmul(A, X_low[i]) + IAATB)[0] for i in range(N)]) # N x n x p\n",
    "X = cgr.exp(X, sig * cgr.randvec(X)) # perturb the emdedded X"
   ]
  },
  {
   "cell_type": "code",
   "execution_count": 15,
   "metadata": {},
   "outputs": [
    {
     "name": "stdout",
     "output_type": "stream",
     "text": [
      "Gr(2, 5) -> Gr(2, 4)\n",
      "Terminated - min grad norm reached after 290 iterations, 2.25 seconds.\n",
      "\n",
      "Gr(2, 4) -> Gr(2, 3)\n",
      "Terminated - min grad norm reached after 90 iterations, 0.71 seconds.\n",
      "\n",
      "Gr(2, 3) -> Gr(1, 3)\n",
      "Gr(1, 3) -> Gr(1, 2)\n",
      "Terminated - min grad norm reached after 79 iterations, 0.59 seconds.\n",
      "\n",
      "Gr(1, 2) -> NGM\n"
     ]
    }
   ],
   "source": [
    "scores_PNG = PNG(X, verbosity = 1)"
   ]
  },
  {
   "cell_type": "code",
   "execution_count": 16,
   "metadata": {},
   "outputs": [
    {
     "name": "stdout",
     "output_type": "stream",
     "text": [
      "The ratios of expressed variance of the first 5 PCs.\n",
      "[0.77 0.1  0.07 0.04 0.01]\n",
      "The cumulative ratios of expressed variance of the first 5 PCs.\n",
      "[0.77 0.88 0.95 0.98 1.  ]\n"
     ]
    }
   ],
   "source": [
    "n_c = 5\n",
    "cpca = Complex_PCA(n_components = n_c)\n",
    "cpca.fit(scores_PNG)\n",
    "print(f'The ratios of expressed variance of the first {n_c} PCs.')\n",
    "print(cpca.explained_variance_ratio_.round(2))\n",
    "print(f'The cumulative ratios of expressed variance of the first {n_c} PCs.')\n",
    "print(np.cumsum(cpca.explained_variance_ratio_).round(2))"
   ]
  },
  {
   "cell_type": "markdown",
   "metadata": {},
   "source": [
    "## PGA"
   ]
  },
  {
   "cell_type": "code",
   "execution_count": 17,
   "metadata": {},
   "outputs": [
    {
     "name": "stdout",
     "output_type": "stream",
     "text": [
      "The ratios of expressed variance of the first 5 PCs.\n",
      "[0.5  0.22 0.18 0.1  0.  ]\n",
      "The cumulative ratios of expressed variance of the first 5 PCs.\n",
      "[0.5  0.73 0.9  1.   1.  ]\n"
     ]
    }
   ],
   "source": [
    "N, n, p = X.shape\n",
    "man = ComplexGrassmann(n, p)\n",
    "cpga = Complex_PGA(X, n_c, man)\n",
    "print(f'The ratios of expressed variance of the first {n_c} PCs.')\n",
    "print(cpga.explained_variance_ratio_.round(2))\n",
    "print(f'The cumulative ratios of expressed variance of the first {n_c} PCs.')\n",
    "print(np.cumsum(cpga.explained_variance_ratio_).round(2))"
   ]
  },
  {
   "cell_type": "markdown",
   "metadata": {},
   "source": [
    "# Example 3: Supervised Principal Nested Grassmann"
   ]
  },
  {
   "cell_type": "markdown",
   "metadata": {},
   "source": [
    "## Generate Data"
   ]
  },
  {
   "cell_type": "code",
   "execution_count": 22,
   "metadata": {},
   "outputs": [],
   "source": [
    "m = 2\n",
    "n = 5\n",
    "p = 1\n",
    "N = 50\n",
    "n_class = 2\n",
    "sig = 0.1\n",
    "\n",
    "gr_low = Grassmann(m, p, N)\n",
    "y = np.random.randint(n_class, size = N)\n",
    "M = np.array([[[1],[0]],[[0],[1]]])\n",
    "X_low = np.zeros((N, m, p))\n",
    "# translate the X such that different classes are separated\n",
    "gr = Grassmann(m, p)\n",
    "for i in range(N):\n",
    "    X_low[i] = gr.exp(M[y[i]], 0.5 * gr.randvec(M[y[i]]))\n",
    "\n",
    "gr_map = Grassmann(n, m)\n",
    "A = gr_map.rand()\n",
    "#B = np.random.normal(0, 0.1, (n, p)) # n_class x n x p\n",
    "B = np.zeros((n, p))\n",
    "AAT = np.matmul(A, A.T) \n",
    "IAATB = np.matmul(np.eye(n) - AAT, B)\n",
    "\n",
    "\n",
    "gr = Grassmann(n, p, N)\n",
    "\n",
    "X = np.array([np.linalg.qr(np.matmul(A, X_low[i]) + IAATB)[0] for i in range(N)]) # N x n x p\n",
    "X = gr.exp(X, sig * gr.randvec(X)) # perturb the emdedded X"
   ]
  },
  {
   "cell_type": "markdown",
   "metadata": {},
   "source": [
    "## Compute the score using SPNG"
   ]
  },
  {
   "cell_type": "code",
   "execution_count": 23,
   "metadata": {},
   "outputs": [
    {
     "name": "stdout",
     "output_type": "stream",
     "text": [
      "Gr(1, 5) -> Gr(1, 4)\n",
      "Gr(1, 4) -> Gr(1, 3)\n",
      "Gr(1, 3) -> Gr(1, 2)\n",
      "Gr(1, 2) -> NGM\n"
     ]
    }
   ],
   "source": [
    "scores_PNG = SPNG(X, y)"
   ]
  }
 ],
 "metadata": {
  "kernelspec": {
   "display_name": "Python 3",
   "language": "python",
   "name": "python3"
  },
  "language_info": {
   "codemirror_mode": {
    "name": "ipython",
    "version": 3
   },
   "file_extension": ".py",
   "mimetype": "text/x-python",
   "name": "python",
   "nbconvert_exporter": "python",
   "pygments_lexer": "ipython3",
   "version": "3.8.8"
  }
 },
 "nbformat": 4,
 "nbformat_minor": 4
}
