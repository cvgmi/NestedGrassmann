{
 "cells": [
  {
   "cell_type": "code",
   "execution_count": 1,
   "metadata": {},
   "outputs": [],
   "source": [
    "from pymanopt.manifolds import Grassmann, ComplexGrassmann, SpecialOrthogonalGroup, Euclidean\n",
    "import numpy as np\n",
    "from compute_centroid import *\n",
    "from grass_DR import *\n",
    "from PNG import *\n",
    "from sklearn.decomposition import PCA\n",
    "from PGA import *\n",
    "from Complex_PCA import *\n",
    "import matplotlib.pyplot as plt"
   ]
  },
  {
   "cell_type": "markdown",
   "metadata": {},
   "source": [
    "# Example 1: 15 points on Gr(2, 6) embedded in Gr(2, 10) "
   ]
  },
  {
   "cell_type": "markdown",
   "metadata": {},
   "source": [
    "## Generate data"
   ]
  },
  {
   "cell_type": "code",
   "execution_count": 9,
   "metadata": {},
   "outputs": [],
   "source": [
    "m = 4\n",
    "n = 10\n",
    "p = 1\n",
    "N = 10\n",
    "sig = 0\n",
    "gr_low = Grassmann(m, p, N)\n",
    "gr = Grassmann(n, p, N)\n",
    "gr_map = Grassmann(n, m)\n",
    "\n",
    "X_low = gr_low.rand() # N x m x p\n",
    "A = gr_map.rand() # n x m\n",
    "#B = np.random.normal(0, 0.1, (n, p)) # n x p\n",
    "B = np.zeros((n,p))\n",
    "AAT = np.matmul(A, A.T) \n",
    "IAATB = np.matmul(np.eye(n) - AAT, B)\n",
    "X = np.array([np.linalg.qr(np.matmul(A, X_low[i]) + IAATB)[0] for i in range(N)]) # N x n x p\n",
    "X = gr.exp(X, sig * gr.randvec(X)) # perturb the emdedded X"
   ]
  },
  {
   "cell_type": "markdown",
   "metadata": {},
   "source": [
    "## Compute the score using PNG and apply PCA to the scores"
   ]
  },
  {
   "cell_type": "code",
   "execution_count": 10,
   "metadata": {},
   "outputs": [
    {
     "name": "stdout",
     "output_type": "stream",
     "text": [
      "Gr(1, 10) -> Gr(1, 9)\n",
      "Terminated - min grad norm reached after 216 iterations, 0.86 seconds.\n",
      "\n",
      "Gr(1, 9) -> Gr(1, 8)\n",
      "Terminated - min grad norm reached after 187 iterations, 0.72 seconds.\n",
      "\n",
      "Gr(1, 8) -> Gr(1, 7)\n",
      "Terminated - min grad norm reached after 146 iterations, 0.56 seconds.\n",
      "\n",
      "Gr(1, 7) -> Gr(1, 6)\n",
      "Terminated - min grad norm reached after 143 iterations, 0.55 seconds.\n",
      "\n",
      "Gr(1, 6) -> Gr(1, 5)\n",
      "Terminated - min grad norm reached after 138 iterations, 0.53 seconds.\n",
      "\n",
      "Gr(1, 5) -> Gr(1, 4)\n",
      "Terminated - min grad norm reached after 192 iterations, 0.71 seconds.\n",
      "\n",
      "Gr(1, 4) -> Gr(1, 3)\n",
      "Terminated - min grad norm reached after 67 iterations, 0.26 seconds.\n",
      "\n",
      "Gr(1, 3) -> Gr(1, 2)\n",
      "Terminated - min grad norm reached after 20 iterations, 0.11 seconds.\n",
      "\n",
      "Gr(1, 2) -> NGM\n"
     ]
    }
   ],
   "source": [
    "scores_PNG = PNG(X, verbosity = 1)"
   ]
  },
  {
   "cell_type": "code",
   "execution_count": 11,
   "metadata": {},
   "outputs": [
    {
     "name": "stdout",
     "output_type": "stream",
     "text": [
      "The ratios of expressed variance of the first 4 PCs.\n",
      "[0.73 0.25 0.02 0.  ]\n",
      "The cumulative ratios of expressed variance of the first 4 PCs.\n",
      "[0.73 0.98 1.   1.  ]\n"
     ]
    }
   ],
   "source": [
    "n_c = 4\n",
    "pca = PCA(n_components = n_c)\n",
    "pca.fit(scores_PNG)\n",
    "print(f'The ratios of expressed variance of the first {n_c} PCs.')\n",
    "print(pca.explained_variance_ratio_.round(2))\n",
    "print(f'The cumulative ratios of expressed variance of the first {n_c} PCs.')\n",
    "print(np.cumsum(pca.explained_variance_ratio_).round(2))"
   ]
  },
  {
   "cell_type": "markdown",
   "metadata": {},
   "source": [
    "## PGA"
   ]
  },
  {
   "cell_type": "code",
   "execution_count": 12,
   "metadata": {},
   "outputs": [
    {
     "name": "stdout",
     "output_type": "stream",
     "text": [
      "The ratios of expressed variance of the first 5 PCs.\n",
      "[0.49 0.36 0.15 0.   0.  ]\n",
      "The cumulative ratios of expressed variance of the first 5 PCs.\n",
      "[0.49 0.85 1.   1.   1.  ]\n"
     ]
    }
   ],
   "source": [
    "gr = Grassmann(n, p)\n",
    "n_c = 5\n",
    "pga = PGA(X, n_c, gr)\n",
    "\n",
    "print(f'The ratios of expressed variance of the first {n_c} PCs.')\n",
    "print(pga.explained_variance_ratio_.round(2))\n",
    "print(f'The cumulative ratios of expressed variance of the first {n_c} PCs.')\n",
    "print(np.cumsum(pga.explained_variance_ratio_).round(2))"
   ]
  },
  {
   "cell_type": "markdown",
   "metadata": {},
   "source": [
    "# Example 2: 15 points on Gr(2, $C^4$) embedded in Gr(2, $C^5$) "
   ]
  },
  {
   "cell_type": "markdown",
   "metadata": {},
   "source": [
    "## Generate data"
   ]
  },
  {
   "cell_type": "code",
   "execution_count": 23,
   "metadata": {},
   "outputs": [],
   "source": [
    "m = 5\n",
    "n = 12\n",
    "p = 1\n",
    "N = 30\n",
    "sig = 0.01\n",
    "cgr_low = ComplexGrassmann(m, p, N)\n",
    "cgr = ComplexGrassmann(n, p, N)\n",
    "cgr_map = ComplexGrassmann(n, m)\n",
    "\n",
    "X_low = cgr_low.rand() # N x m x p\n",
    "A = cgr_map.rand() # n x m\n",
    "#B = np.random.normal(0, 0.1, (n, p)) # n x p\n",
    "B = np.zeros((n,p))\n",
    "AAT = np.matmul(A, A.conj().T) \n",
    "IAATB = np.matmul(np.eye(n) - AAT, B)\n",
    "X = np.array([np.linalg.qr(np.matmul(A, X_low[i]) + IAATB)[0] for i in range(N)]) # N x n x p\n",
    "X = cgr.exp(X, sig * cgr.randvec(X)) # perturb the emdedded X"
   ]
  },
  {
   "cell_type": "code",
   "execution_count": 24,
   "metadata": {},
   "outputs": [
    {
     "name": "stdout",
     "output_type": "stream",
     "text": [
      "Gr(1, 12) -> Gr(1, 11)\n",
      "Terminated - min grad norm reached after 55 iterations, 0.88 seconds.\n",
      "\n",
      "Gr(1, 11) -> Gr(1, 10)\n",
      "Terminated - min grad norm reached after 73 iterations, 1.13 seconds.\n",
      "\n",
      "Gr(1, 10) -> Gr(1, 9)\n",
      "Terminated - min grad norm reached after 78 iterations, 1.17 seconds.\n",
      "\n",
      "Gr(1, 9) -> Gr(1, 8)\n",
      "Terminated - min grad norm reached after 69 iterations, 1.06 seconds.\n",
      "\n",
      "Gr(1, 8) -> Gr(1, 7)\n",
      "Terminated - min grad norm reached after 54 iterations, 0.83 seconds.\n",
      "\n",
      "Gr(1, 7) -> Gr(1, 6)\n",
      "Terminated - min grad norm reached after 44 iterations, 0.72 seconds.\n",
      "\n",
      "Gr(1, 6) -> Gr(1, 5)\n",
      "Terminated - min grad norm reached after 205 iterations, 2.99 seconds.\n",
      "\n",
      "Gr(1, 5) -> Gr(1, 4)\n",
      "Terminated - min grad norm reached after 56 iterations, 0.85 seconds.\n",
      "\n",
      "Gr(1, 4) -> Gr(1, 3)\n",
      "Terminated - min grad norm reached after 50 iterations, 0.76 seconds.\n",
      "\n",
      "Gr(1, 3) -> Gr(1, 2)\n",
      "Terminated - min grad norm reached after 121 iterations, 1.72 seconds.\n",
      "\n",
      "Gr(1, 2) -> NGM\n"
     ]
    }
   ],
   "source": [
    "scores = PNG(X, verbosity = 1)"
   ]
  },
  {
   "cell_type": "code",
   "execution_count": 25,
   "metadata": {},
   "outputs": [
    {
     "name": "stdout",
     "output_type": "stream",
     "text": [
      "The ratios of expressed variance of the first 5 PCs.\n",
      "[0.5  0.35 0.13 0.02 0.01]\n",
      "The cumulative ratios of expressed variance of the first 5 PCs.\n",
      "[0.5  0.85 0.98 0.99 1.  ]\n"
     ]
    }
   ],
   "source": [
    "n_c = 5\n",
    "cpca = Complex_PCA(n_components = n_c)\n",
    "cpca.fit(scores_PNG)\n",
    "print(f'The ratios of expressed variance of the first {n_c} PCs.')\n",
    "print(cpca.explained_variance_ratio_.round(2))\n",
    "print(f'The cumulative ratios of expressed variance of the first {n_c} PCs.')\n",
    "print(np.cumsum(cpca.explained_variance_ratio_).round(2))"
   ]
  },
  {
   "cell_type": "markdown",
   "metadata": {},
   "source": [
    "## PGA"
   ]
  },
  {
   "cell_type": "code",
   "execution_count": 26,
   "metadata": {},
   "outputs": [
    {
     "name": "stdout",
     "output_type": "stream",
     "text": [
      "The ratios of expressed variance of the first 5 PCs.\n",
      "[0.32 0.28 0.23 0.17 0.  ]\n",
      "The cumulative ratios of expressed variance of the first 5 PCs.\n",
      "[0.32 0.6  0.83 1.   1.  ]\n"
     ]
    }
   ],
   "source": [
    "N, n, p = X.shape\n",
    "man = ComplexGrassmann(n, p)\n",
    "cpga = Complex_PGA(X, n_c, man)\n",
    "print(f'The ratios of expressed variance of the first {n_c} PCs.')\n",
    "print(cpga.explained_variance_ratio_.round(2))\n",
    "print(f'The cumulative ratios of expressed variance of the first {n_c} PCs.')\n",
    "print(np.cumsum(cpga.explained_variance_ratio_).round(2))"
   ]
  },
  {
   "cell_type": "markdown",
   "metadata": {},
   "source": [
    "# Example 3: Supervised Principal Nested Grassmann"
   ]
  },
  {
   "cell_type": "markdown",
   "metadata": {},
   "source": [
    "## Generate Data"
   ]
  },
  {
   "cell_type": "code",
   "execution_count": 22,
   "metadata": {},
   "outputs": [],
   "source": [
    "m = 2\n",
    "n = 5\n",
    "p = 1\n",
    "N = 50\n",
    "n_class = 2\n",
    "sig = 0.1\n",
    "\n",
    "gr_low = Grassmann(m, p, N)\n",
    "y = np.random.randint(n_class, size = N)\n",
    "M = np.array([[[1],[0]],[[0],[1]]])\n",
    "X_low = np.zeros((N, m, p))\n",
    "# translate the X such that different classes are separated\n",
    "gr = Grassmann(m, p)\n",
    "for i in range(N):\n",
    "    X_low[i] = gr.exp(M[y[i]], 0.5 * gr.randvec(M[y[i]]))\n",
    "\n",
    "gr_map = Grassmann(n, m)\n",
    "A = gr_map.rand()\n",
    "#B = np.random.normal(0, 0.1, (n, p)) # n_class x n x p\n",
    "B = np.zeros((n, p))\n",
    "AAT = np.matmul(A, A.T) \n",
    "IAATB = np.matmul(np.eye(n) - AAT, B)\n",
    "\n",
    "\n",
    "gr = Grassmann(n, p, N)\n",
    "\n",
    "X = np.array([np.linalg.qr(np.matmul(A, X_low[i]) + IAATB)[0] for i in range(N)]) # N x n x p\n",
    "X = gr.exp(X, sig * gr.randvec(X)) # perturb the emdedded X"
   ]
  },
  {
   "cell_type": "markdown",
   "metadata": {},
   "source": [
    "## Compute the score using SPNG"
   ]
  },
  {
   "cell_type": "code",
   "execution_count": 23,
   "metadata": {},
   "outputs": [
    {
     "name": "stdout",
     "output_type": "stream",
     "text": [
      "Gr(1, 5) -> Gr(1, 4)\n",
      "Gr(1, 4) -> Gr(1, 3)\n",
      "Gr(1, 3) -> Gr(1, 2)\n",
      "Gr(1, 2) -> NGM\n"
     ]
    }
   ],
   "source": [
    "scores_PNG = SPNG(X, y)"
   ]
  },
  {
   "cell_type": "markdown",
   "metadata": {},
   "source": [
    "# Example 4: Digit 3 "
   ]
  },
  {
   "cell_type": "code",
   "execution_count": 2,
   "metadata": {},
   "outputs": [],
   "source": [
    "from shape_transform import *\n",
    "X = np.load('dataset/digit3.npy')\n",
    "X = X.transpose((1,2,0))\n",
    "X = shape_transform(X)"
   ]
  },
  {
   "cell_type": "code",
   "execution_count": 6,
   "metadata": {},
   "outputs": [
    {
     "name": "stdout",
     "output_type": "stream",
     "text": [
      "Gr(1, 12) -> Gr(1, 11)\n",
      "Terminated - min grad norm reached after 33 iterations, 0.58 seconds.\n",
      "\n",
      "Gr(1, 11) -> Gr(1, 10)\n",
      "Terminated - max iterations reached after 14.35 seconds.\n",
      "\n",
      "Gr(1, 10) -> Gr(1, 9)\n",
      "Terminated - max iterations reached after 14.80 seconds.\n",
      "\n",
      "Gr(1, 9) -> Gr(1, 8)\n",
      "Terminated - max iterations reached after 14.38 seconds.\n",
      "\n",
      "Gr(1, 8) -> Gr(1, 7)\n",
      "Terminated - max iterations reached after 14.42 seconds.\n",
      "\n",
      "Gr(1, 7) -> Gr(1, 6)\n",
      "Terminated - min grad norm reached after 455 iterations, 6.36 seconds.\n",
      "\n",
      "Gr(1, 6) -> Gr(1, 5)\n",
      "Terminated - min grad norm reached after 257 iterations, 3.70 seconds.\n",
      "\n",
      "Gr(1, 5) -> Gr(1, 4)\n",
      "Terminated - min grad norm reached after 213 iterations, 3.10 seconds.\n",
      "\n",
      "Gr(1, 4) -> Gr(1, 3)\n",
      "Terminated - min grad norm reached after 56 iterations, 0.83 seconds.\n",
      "\n",
      "Gr(1, 3) -> Gr(1, 2)\n",
      "Terminated - min grad norm reached after 66 iterations, 0.99 seconds.\n",
      "\n",
      "Gr(1, 2) -> NGM\n"
     ]
    }
   ],
   "source": [
    "scores_PNG = PNG(X, verbosity = 1)"
   ]
  },
  {
   "cell_type": "code",
   "execution_count": 4,
   "metadata": {},
   "outputs": [
    {
     "name": "stdout",
     "output_type": "stream",
     "text": [
      "The ratios of expressed variance of the first 5 PCs.\n",
      "[0.81 0.1  0.06 0.02 0.01]\n",
      "The cumulative ratios of expressed variance of the first 5 PCs.\n",
      "[0.81 0.91 0.97 0.99 1.  ]\n"
     ]
    }
   ],
   "source": [
    "n_c = 5\n",
    "cpca = Complex_PCA(n_components = n_c)\n",
    "cpca.fit(scores_PNG)\n",
    "print(f'The ratios of expressed variance of the first {n_c} PCs.')\n",
    "print(cpca.explained_variance_ratio_.round(2))\n",
    "print(f'The cumulative ratios of expressed variance of the first {n_c} PCs.')\n",
    "print(np.cumsum(cpca.explained_variance_ratio_).round(2))"
   ]
  },
  {
   "cell_type": "code",
   "execution_count": 5,
   "metadata": {},
   "outputs": [
    {
     "name": "stdout",
     "output_type": "stream",
     "text": [
      "The ratios of expressed variance of the first 5 PCs.\n",
      "[0.61 0.23 0.07 0.03 0.02]\n",
      "The cumulative ratios of expressed variance of the first 5 PCs.\n",
      "[0.61 0.84 0.91 0.94 0.96]\n"
     ]
    }
   ],
   "source": [
    "N, n, p = X.shape\n",
    "man = ComplexGrassmann(n, p)\n",
    "cpga = Complex_PGA(X, n_c, man)\n",
    "print(f'The ratios of expressed variance of the first {n_c} PCs.')\n",
    "print(cpga.explained_variance_ratio_.round(2))\n",
    "print(f'The cumulative ratios of expressed variance of the first {n_c} PCs.')\n",
    "print(np.cumsum(cpga.explained_variance_ratio_).round(2))"
   ]
  },
  {
   "cell_type": "markdown",
   "metadata": {},
   "source": [
    "# Example 5: Female Gorilla"
   ]
  },
  {
   "cell_type": "code",
   "execution_count": 32,
   "metadata": {},
   "outputs": [],
   "source": [
    "from shape_transform import *\n",
    "X = np.load('dataset/gorf.npy')\n",
    "X = X.transpose((1,2,0))\n",
    "X = shape_transform(X)"
   ]
  },
  {
   "cell_type": "code",
   "execution_count": 36,
   "metadata": {},
   "outputs": [
    {
     "name": "stdout",
     "output_type": "stream",
     "text": [
      "Gr(1, 7) -> Gr(1, 6)\n",
      "Terminated - min grad norm reached after 104 iterations, 1.55 seconds.\n",
      "\n",
      "Gr(1, 6) -> Gr(1, 5)\n",
      "Terminated - min grad norm reached after 150 iterations, 2.15 seconds.\n",
      "\n",
      "Gr(1, 5) -> Gr(1, 4)\n",
      "Terminated - min grad norm reached after 163 iterations, 2.36 seconds.\n",
      "\n",
      "Gr(1, 4) -> Gr(1, 3)\n",
      "Terminated - min grad norm reached after 71 iterations, 1.05 seconds.\n",
      "\n",
      "Gr(1, 3) -> Gr(1, 2)\n",
      "Terminated - min grad norm reached after 67 iterations, 0.99 seconds.\n",
      "\n",
      "Gr(1, 2) -> NGM\n"
     ]
    }
   ],
   "source": [
    "scores_PNG = PNG(X, verbosity = 1)"
   ]
  },
  {
   "cell_type": "code",
   "execution_count": 37,
   "metadata": {},
   "outputs": [
    {
     "name": "stdout",
     "output_type": "stream",
     "text": [
      "The ratios of expressed variance of the first 5 PCs.\n",
      "[0.62 0.28 0.05 0.03 0.01]\n",
      "The cumulative ratios of expressed variance of the first 5 PCs.\n",
      "[0.62 0.9  0.95 0.98 0.99]\n"
     ]
    }
   ],
   "source": [
    "n_c = 5\n",
    "cpca = Complex_PCA(n_components = n_c)\n",
    "cpca.fit(scores_PNG)\n",
    "print(f'The ratios of expressed variance of the first {n_c} PCs.')\n",
    "print(cpca.explained_variance_ratio_.round(2))\n",
    "print(f'The cumulative ratios of expressed variance of the first {n_c} PCs.')\n",
    "print(np.cumsum(cpca.explained_variance_ratio_).round(2))"
   ]
  },
  {
   "cell_type": "code",
   "execution_count": 38,
   "metadata": {},
   "outputs": [
    {
     "name": "stdout",
     "output_type": "stream",
     "text": [
      "The ratios of expressed variance of the first 5 PCs.\n",
      "[0.49 0.2  0.13 0.09 0.06]\n",
      "The cumulative ratios of expressed variance of the first 5 PCs.\n",
      "[0.49 0.69 0.82 0.91 0.97]\n"
     ]
    }
   ],
   "source": [
    "N, n, p = X.shape\n",
    "man = ComplexGrassmann(n, p)\n",
    "cpga = Complex_PGA(X, n_c, man)\n",
    "print(f'The ratios of expressed variance of the first {n_c} PCs.')\n",
    "print(cpga.explained_variance_ratio_.round(2))\n",
    "print(f'The cumulative ratios of expressed variance of the first {n_c} PCs.')\n",
    "print(np.cumsum(cpga.explained_variance_ratio_).round(2))"
   ]
  }
 ],
 "metadata": {
  "kernelspec": {
   "display_name": "Python 3",
   "language": "python",
   "name": "python3"
  },
  "language_info": {
   "codemirror_mode": {
    "name": "ipython",
    "version": 3
   },
   "file_extension": ".py",
   "mimetype": "text/x-python",
   "name": "python",
   "nbconvert_exporter": "python",
   "pygments_lexer": "ipython3",
   "version": "3.8.8"
  }
 },
 "nbformat": 4,
 "nbformat_minor": 4
}
