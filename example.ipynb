{
 "cells": [
  {
   "cell_type": "code",
   "execution_count": 1,
   "metadata": {},
   "outputs": [],
   "source": [
    "from pymanopt.manifolds import Grassmann, ComplexGrassmann\n",
    "import numpy as np\n",
    "from compute_centroid import *\n",
    "from grass_DR import *\n",
    "from PNG import *\n",
    "from sklearn.decomposition import PCA\n",
    "from PGA import *"
   ]
  },
  {
   "cell_type": "markdown",
   "metadata": {},
   "source": [
    "# Example 1: 15 points on Gr(2, 6) embedded in Gr(2, 10) "
   ]
  },
  {
   "cell_type": "markdown",
   "metadata": {},
   "source": [
    "## Generate data"
   ]
  },
  {
   "cell_type": "code",
   "execution_count": 2,
   "metadata": {},
   "outputs": [],
   "source": [
    "m = 6\n",
    "n = 10\n",
    "p = 2\n",
    "N = 15\n",
    "sig = 0.1\n",
    "gr_low = Grassmann(m, p, N)\n",
    "gr = Grassmann(n, p, N)\n",
    "gr_map = Grassmann(n, m)\n",
    "\n",
    "X_low = gr_low.rand() # N x m x p\n",
    "A = gr_map.rand() # n x m\n",
    "#B = np.random.normal(0, 0.1, (n, p)) # n x p\n",
    "B = np.zeros((n,p))\n",
    "AAT = np.matmul(A, A.T) \n",
    "IAATB = np.matmul(np.eye(n) - AAT, B)\n",
    "X = np.array([np.linalg.qr(np.matmul(A, X_low[i]) + IAATB)[0] for i in range(N)]) # N x n x p\n",
    "X = gr.exp(X, sig * gr.randvec(X)) # perturb the emdedded X"
   ]
  },
  {
   "cell_type": "markdown",
   "metadata": {},
   "source": [
    "## Compute the score using PNG and apply PCA to the scores"
   ]
  },
  {
   "cell_type": "code",
   "execution_count": 3,
   "metadata": {},
   "outputs": [
    {
     "name": "stdout",
     "output_type": "stream",
     "text": [
      "Gr(2, 10) -> Gr(2, 9)\n",
      "Gr(2, 9) -> Gr(2, 8)\n",
      "Gr(2, 8) -> Gr(2, 7)\n",
      "Gr(2, 7) -> Gr(2, 6)\n",
      "Gr(2, 6) -> Gr(2, 5)\n",
      "Gr(2, 5) -> Gr(2, 4)\n",
      "Gr(2, 4) -> Gr(2, 3)\n",
      "Gr(2, 3) -> Gr(1, 3)\n",
      "Gr(1, 3) -> Gr(1, 2)\n",
      "Gr(1, 2) -> NGM\n",
      "The ratios of expressed variance first 5 PCs.\n",
      "[0.43 0.2  0.16 0.09 0.06]\n",
      "The cumulative ratios of expressed variance first 5 PCs.\n",
      "[0.43 0.63 0.78 0.87 0.93]\n"
     ]
    }
   ],
   "source": [
    "scores = PNG(X)\n",
    "\n",
    "n_c = 5\n",
    "pca = PCA(n_components = n_c)\n",
    "pca.fit(scores)\n",
    "print(f'The ratios of expressed variance first {n_c} PCs.')\n",
    "print(pca.explained_variance_ratio_.round(2))\n",
    "print(f'The cumulative ratios of expressed variance first {n_c} PCs.')\n",
    "print(np.cumsum(pca.explained_variance_ratio_).round(2))"
   ]
  },
  {
   "cell_type": "markdown",
   "metadata": {},
   "source": [
    "# Example 2: 15 points on Gr(2, $C^6$) embedded in Gr(2, $C^{10}$) "
   ]
  },
  {
   "cell_type": "markdown",
   "metadata": {},
   "source": [
    "## Generate data"
   ]
  },
  {
   "cell_type": "code",
   "execution_count": 4,
   "metadata": {},
   "outputs": [],
   "source": [
    "m = 4\n",
    "n = 5\n",
    "p = 2\n",
    "N = 15\n",
    "sig = 0.1\n",
    "cgr_low = ComplexGrassmann(m, p, N)\n",
    "cgr = ComplexGrassmann(n, p, N)\n",
    "cgr_map = ComplexGrassmann(n, m)\n",
    "\n",
    "X_low = cgr_low.rand() # N x m x p\n",
    "A = cgr_map.rand() # n x m\n",
    "#B = np.random.normal(0, 0.1, (n, p)) # n x p\n",
    "B = np.zeros((n,p))\n",
    "AAT = np.matmul(A, A.conj().T) \n",
    "IAATB = np.matmul(np.eye(n) - AAT, B)\n",
    "X = np.array([np.linalg.qr(np.matmul(A, X_low[i]) + IAATB)[0] for i in range(N)]) # N x n x p\n",
    "X = cgr.exp(X, sig * cgr.randvec(X)) # perturb the emdedded X"
   ]
  },
  {
   "cell_type": "code",
   "execution_count": 5,
   "metadata": {},
   "outputs": [
    {
     "name": "stdout",
     "output_type": "stream",
     "text": [
      "Gr(2, 5) -> Gr(2, 4)\n",
      "Gr(2, 4) -> Gr(2, 3)\n",
      "Gr(2, 3) -> Gr(1, 3)\n",
      "Gr(1, 3) -> Gr(1, 2)\n",
      "Gr(1, 2) -> NGM\n"
     ]
    }
   ],
   "source": [
    "scores = PNG(X)"
   ]
  },
  {
   "cell_type": "code",
   "execution_count": 6,
   "metadata": {},
   "outputs": [
    {
     "name": "stdout",
     "output_type": "stream",
     "text": [
      "The ratios of expressed variance first 5 PCs.\n",
      "[0.34 0.24 0.18 0.11 0.08]\n",
      "The cumulative ratios of expressed variance first 5 PCs.\n",
      "[0.34 0.57 0.75 0.86 0.94]\n"
     ]
    }
   ],
   "source": [
    "n_c = 5\n",
    "pca = PCA(n_components = n_c)\n",
    "pca.fit(np.hstack((scores.real, scores.imag)))\n",
    "print(f'The ratios of expressed variance first {n_c} PCs.')\n",
    "print(pca.explained_variance_ratio_.round(2))\n",
    "print(f'The cumulative ratios of expressed variance first {n_c} PCs.')\n",
    "print(np.cumsum(pca.explained_variance_ratio_).round(2))"
   ]
  }
 ],
 "metadata": {
  "kernelspec": {
   "display_name": "Python 3",
   "language": "python",
   "name": "python3"
  },
  "language_info": {
   "codemirror_mode": {
    "name": "ipython",
    "version": 3
   },
   "file_extension": ".py",
   "mimetype": "text/x-python",
   "name": "python",
   "nbconvert_exporter": "python",
   "pygments_lexer": "ipython3",
   "version": "3.8.8"
  }
 },
 "nbformat": 4,
 "nbformat_minor": 4
}
