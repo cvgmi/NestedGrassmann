{
 "cells": [
  {
   "cell_type": "code",
   "execution_count": 1,
   "metadata": {},
   "outputs": [],
   "source": [
    "from grass_DR import *\n",
    "import scipy.io\n",
    "import matplotlib.pyplot as plt\n",
    "from compute_centroid import *\n",
    "from pymanopt.solvers.linesearch import LineSearchAdaptive\n",
    "import torch"
   ]
  },
  {
   "cell_type": "code",
   "execution_count": 28,
   "metadata": {},
   "outputs": [
    {
     "name": "stdout",
     "output_type": "stream",
     "text": [
      "Optimizing...\n",
      "Terminated - min grad norm reached after 241 iterations, 10.01 seconds.\n",
      "\n"
     ]
    }
   ],
   "source": [
    "# generating data in Gr(p, m) embedded in Gr(p, n)\n",
    "n = 5\n",
    "m = 3\n",
    "p = 2\n",
    "N = 50 # number of samples\n",
    "sig = 0.05\n",
    "\n",
    "gr_low = Grassmann(m, p, N)\n",
    "gr = Grassmann(n, p, N)\n",
    "gr_map = Grassmann(n, m)\n",
    "\n",
    "np.random.seed(25)\n",
    "X_low = gr_low.rand() # N x m x p\n",
    "A = gr_map.rand() # n x m\n",
    "B = np.random.normal(0, 1, (n, p)) # n x p\n",
    "AAT = np.matmul(A, A.T) \n",
    "IAATB = np.matmul(np.eye(n) - AAT, B)\n",
    "X = np.array([np.linalg.qr(np.matmul(A, X_low[i]) + IAATB)[0] for i in range(N)]) # N x n x p\n",
    "X = gr.exp(X, sig * gr.randvec(X)) # perturb the emdedded X\n",
    "\n",
    "v_ratio_proj, X_proj, A_opt, B_opt = DR_proj(X, m, verbosity=1, maxiter=1000, linesearch=LineSearchAdaptive(contraction_factor=.5))"
   ]
  },
  {
   "cell_type": "code",
   "execution_count": 29,
   "metadata": {},
   "outputs": [
    {
     "name": "stdout",
     "output_type": "stream",
     "text": [
      "Explained variance: 40.62 %\n"
     ]
    }
   ],
   "source": [
    "print('Explained variance:', np.round(v_ratio_proj*100, 2), '%') "
   ]
  }
 ],
 "metadata": {
  "kernelspec": {
   "display_name": "Python 3",
   "language": "python",
   "name": "python3"
  },
  "language_info": {
   "codemirror_mode": {
    "name": "ipython",
    "version": 3
   },
   "file_extension": ".py",
   "mimetype": "text/x-python",
   "name": "python",
   "nbconvert_exporter": "python",
   "pygments_lexer": "ipython3",
   "version": "3.8.3"
  }
 },
 "nbformat": 4,
 "nbformat_minor": 4
}
