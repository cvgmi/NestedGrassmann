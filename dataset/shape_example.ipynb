{
 "cells": [
  {
   "cell_type": "markdown",
   "id": "3d0d3fc3",
   "metadata": {},
   "source": [
    "# Examples of planar shapes"
   ]
  },
  {
   "cell_type": "code",
   "execution_count": 1,
   "id": "9292d4e3",
   "metadata": {},
   "outputs": [],
   "source": [
    "import sys\n",
    "sys.path.insert(0,'..')\n",
    "from pymanopt.manifolds import ComplexGrassmann\n",
    "import numpy as np\n",
    "from PNG import *\n",
    "from PGA import *\n",
    "from Complex_PCA import *\n",
    "from sklearn.decomposition import PCA\n",
    "import matplotlib.pyplot as plt\n",
    "from shape_transform import *\n",
    "import rpy2.robjects as robjects\n",
    "import pandas as pd\n",
    "from plotnine import *\n",
    "from joblib import Parallel, delayed\n",
    "import multiprocessing"
   ]
  },
  {
   "cell_type": "code",
   "execution_count": 2,
   "id": "6876572a",
   "metadata": {},
   "outputs": [],
   "source": [
    "def example(data, n_c, **kwargs):\n",
    "    X = np.load(data)\n",
    "    X = X.transpose((1,2,0))\n",
    "    X = shape_transform(X)\n",
    "    \n",
    "    scores_PNG = PNG(X, **kwargs)\n",
    "    \n",
    "    n_c = 5\n",
    "    png = Complex_PCA(n_components = n_c)\n",
    "    png.fit(scores_PNG)\n",
    "    #cpca = PCA(n_components = n_c)\n",
    "    #cpca.fit(np.hstack((scores_PNG.real, scores_PNG.imag)))\n",
    "\n",
    "    \n",
    "    N, n, p = X.shape\n",
    "    man = ComplexGrassmann(n, p)\n",
    "    pga, X_trans = Complex_PGA(X, n_c, man)\n",
    "    \n",
    "    #FM = compute_centroid(man, X)\n",
    "    #logX = np.zeros(X.shape, dtype = X.dtype)\n",
    "    #logX = logX.reshape((N, -1))\n",
    "    #for i in range(N):\n",
    "    #    logX[i] = man.log(FM, X[i]).reshape(-1)\n",
    "    \n",
    "    #cpga = PCA(n_components = n_c)\n",
    "    #cpga.fit(np.hstack((logX.real, logX.imag)))\n",
    "\n",
    "    \n",
    "    pnss_ratio = robjects.r('''\n",
    "                         library(shapes)\n",
    "                         sink(\"/dev/null\")\n",
    "                         out <- pnss3d({}, n.pc = {})\n",
    "                         sink()\n",
    "                         out$percent   \n",
    "                         '''.format(data.replace('npy','dat'), 2*n_c))\n",
    "    \n",
    "    res = pd.DataFrame(columns=['data', 'method', 'component', 'var_ratio'])\n",
    "    for l in range(n_c):\n",
    "        res = res.append({'data':data.replace('.npy',''),\n",
    "                        'method':'PNG',\n",
    "                        'component':l+1, \n",
    "                        'var_ratio':np.cumsum(png.explained_variance_ratio_)[l]*100}, ignore_index = True)\n",
    "        res = res.append({'data':data.replace('.npy',''),\n",
    "                        'method':'PGA',\n",
    "                        'component':l+1, \n",
    "                        'var_ratio':np.cumsum(pga.explained_variance_ratio_)[l]*100}, ignore_index = True)\n",
    "        res = res.append({'data':data.replace('.npy',''),\n",
    "                        'method':'PNSS',\n",
    "                        'component':l+1, \n",
    "                        'var_ratio':np.cumsum(pnss_ratio)[np.arange(1, 2*n_c, 2)][l]}, ignore_index = True)\n",
    "    \n",
    "    '''\n",
    "    plt.rcParams.update({'font.size': 16})\n",
    "    plt.plot(np.linspace(1,n_c, n_c), np.cumsum(cpca.explained_variance_ratio_)*100, '-', linewidth=3)\n",
    "    plt.plot(np.linspace(1,n_c, n_c), np.cumsum(cpga.explained_variance_ratio_)*100, '--', linewidth=3)\n",
    "    plt.plot(np.linspace(1,n_c, n_c), np.cumsum(pnss_ratio)[np.arange(1, 2*n_c, 2)], '-.', linewidth=3)\n",
    "    plt.xlabel('Principal Components')\n",
    "    plt.ylabel('Cum. Var. (%)')\n",
    "    plt.legend(['PNG', 'PGA', 'PNSS'], loc='lower right')\n",
    "    plt.title('Dataset: '+'{}'.format(data.replace('.npy', '')))\n",
    "    plt.tight_layout()\n",
    "    plt.savefig(data.replace('npy', 'pdf'))\n",
    "    plt.show()\n",
    "    '''\n",
    "    return res\n",
    "    \n",
    "    "
   ]
  },
  {
   "cell_type": "code",
   "execution_count": null,
   "id": "67206869",
   "metadata": {},
   "outputs": [],
   "source": [
    "data = ['digit3.npy', 'gorf.npy', 'gorm.npy']\n",
    "n_c = 5\n",
    "\n",
    "num_cores = multiprocessing.cpu_count()\n",
    "tmp = Parallel(n_jobs=num_cores)(delayed(example)(d, n_c) for d in data for i in range(10))\n",
    "\n",
    "v_ratio = tmp[0]\n",
    "for i in range(1,len(tmp)):\n",
    "    v_ratio = v_ratio.append(tmp[i],ignore_index=True)\n",
    "    \n",
    "v_ratio_sum = v_ratio >> group_by('data', 'method', 'component') \\\n",
    "    >> summarize(mean_ratio = X.var_ratio.mean(), sd_ratio = X.var_ratio.std())"
   ]
  },
  {
   "cell_type": "code",
   "execution_count": null,
   "id": "1846bb68",
   "metadata": {},
   "outputs": [],
   "source": [
    "p = ggplot(v_ratio_sum) + \\\n",
    "    facet_grid('. ~ data') + \\\n",
    "    aes(x = 'component', y = 'mean_ratio', color = 'method') + \\\n",
    "    geom_line(aes(group = 'method'), size = 1) + \\\n",
    "    labs(y = 'Cum. Var. Ratio (%)', x = 'Principal Components', color = '') + \\\n",
    "    scale_color_manual(values = ['red', 'blue', 'green'])\n",
    "\n",
    "ggsave(plot=p, filename='shape_var_ratio.png', width = 30, height = 10, units = 'cm', dpi = 320)\n"
   ]
  }
 ],
 "metadata": {
  "environment": {
   "name": "r-cpu.4-0.m78",
   "type": "gcloud",
   "uri": "gcr.io/deeplearning-platform-release/r-cpu.4-0:m78"
  },
  "kernelspec": {
   "display_name": "Python 3",
   "language": "python",
   "name": "python3"
  },
  "language_info": {
   "codemirror_mode": {
    "name": "ipython",
    "version": 3
   },
   "file_extension": ".py",
   "mimetype": "text/x-python",
   "name": "python",
   "nbconvert_exporter": "python",
   "pygments_lexer": "ipython3",
   "version": "3.7.10"
  }
 },
 "nbformat": 4,
 "nbformat_minor": 5
}
