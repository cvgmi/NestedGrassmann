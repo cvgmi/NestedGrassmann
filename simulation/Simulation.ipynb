{
 "cells": [
  {
   "cell_type": "markdown",
   "id": "02de78b9",
   "metadata": {},
   "source": [
    "# Simulation Studies"
   ]
  },
  {
   "cell_type": "code",
   "execution_count": 34,
   "id": "be7bb529",
   "metadata": {},
   "outputs": [],
   "source": [
    "import sys\n",
    "sys.path.insert(0,'..')\n",
    "from dfply import *\n",
    "from grass_DR import *\n",
    "import scipy.io\n",
    "import matplotlib.pyplot as plt\n",
    "from compute_centroid import *\n",
    "from PGA import *\n",
    "from PNG import *\n",
    "import torch\n",
    "import pandas as pd\n",
    "from plotnine import ggplot, aes, geom_line, labs, ggsave\n",
    "from joblib import Parallel, delayed\n",
    "import multiprocessing"
   ]
  },
  {
   "cell_type": "markdown",
   "id": "6ce16fa3",
   "metadata": {},
   "source": [
    "## 1. Comparison between geodesic distance and projection distance"
   ]
  },
  {
   "cell_type": "code",
   "execution_count": 8,
   "id": "23f58bbd",
   "metadata": {},
   "outputs": [],
   "source": [
    "def exp1(k, s_vec):\n",
    "    N, n, m, p = 50, 10, 3, 1\n",
    "    #N, n, m, p = 10, 5, 3, 1\n",
    "\n",
    "    #v_ratio_sig_proj = np.zeros((len(s_vec), repetition))\n",
    "    #v_ratio_sig_geod = np.zeros((len(s_vec), repetition))\n",
    "    v_ratio_dist = pd.DataFrame(columns=['rep', 'sig', 'method', 'var_ratio'])\n",
    "    \n",
    "    gr_low = Grassmann(m, p)\n",
    "    gr = Grassmann(n, p)\n",
    "    gr_map = Grassmann(n, m)\n",
    "    \n",
    "    for j, sig in enumerate(s_vec):\n",
    "        np.random.seed(12345 + j + k)\n",
    "        X_low = np.array([gr_low.rand() for i in range(N)]) # N x m x p\n",
    "        W = gr_map.rand() # n x m\n",
    "        X_ = np.array([np.matmul(W, X_low[i]) for i in range(N)]) # N x n x p\n",
    "        X = np.array([gr.exp(X_[i], sig * gr.randvec(X_[i])) for i in range(N)]) # perturb the emdedded X\n",
    "        \n",
    "        FM_X = compute_centroid(gr, X)\n",
    "        var_X = var(gr, X, FM_X)\n",
    "        \n",
    "        X_low_proj, _, _ = NG_dr(X, m, verbosity = 0)\n",
    "        X_low_geod, _, _ = NG_dr_geod(X, m, verbosity = 0)\n",
    "        \n",
    "        FM_proj = compute_centroid(gr_low, X_low_proj)\n",
    "        var_proj = var(gr_low, X_low_proj, FM_proj)\n",
    "        \n",
    "        FM_geod = compute_centroid(gr_low, X_low_geod)\n",
    "        var_geod = var(gr_low, X_low_geod, FM_geod)\n",
    "        \n",
    "        v_ratio_dist = v_ratio_dist.append({'rep':k,\n",
    "                            'sig':sig, \n",
    "                            'method':'geod',\n",
    "                            'var_ratio':var_geod/var_X}, ignore_index = True)\n",
    "        v_ratio_dist = v_ratio_dist.append({'rep':k,\n",
    "                            'sig':sig, \n",
    "                            'method':'proj',\n",
    "                            'var_ratio':var_proj/var_X}, ignore_index = True)\n",
    "        \n",
    "    return v_ratio_dist"
   ]
  },
  {
   "cell_type": "code",
   "execution_count": 9,
   "id": "50b830b9",
   "metadata": {},
   "outputs": [],
   "source": [
    "repetition = 100\n",
    "s_vec = np.linspace(0.01, 0.5, 20)"
   ]
  },
  {
   "cell_type": "code",
   "execution_count": 31,
   "id": "d9a6cd56",
   "metadata": {},
   "outputs": [],
   "source": [
    "num_cores = multiprocessing.cpu_count()\n",
    "    \n",
    "tmp = Parallel(n_jobs=num_cores)(delayed(exp1)(k, s_vec) for k in range(repetition))\n",
    "\n",
    "v_ratio_dist = tmp[0]\n",
    "for i in range(1,repetition):\n",
    "    v_ratio_dist = v_ratio_dist.append(tmp[i],ignore_index=True)"
   ]
  },
  {
   "cell_type": "code",
   "execution_count": 32,
   "id": "09f24182",
   "metadata": {},
   "outputs": [
    {
     "data": {
      "text/html": [
       "<div>\n",
       "<style scoped>\n",
       "    .dataframe tbody tr th:only-of-type {\n",
       "        vertical-align: middle;\n",
       "    }\n",
       "\n",
       "    .dataframe tbody tr th {\n",
       "        vertical-align: top;\n",
       "    }\n",
       "\n",
       "    .dataframe thead th {\n",
       "        text-align: right;\n",
       "    }\n",
       "</style>\n",
       "<table border=\"1\" class=\"dataframe\">\n",
       "  <thead>\n",
       "    <tr style=\"text-align: right;\">\n",
       "      <th></th>\n",
       "      <th>method</th>\n",
       "      <th>sig</th>\n",
       "      <th>mean_ratio</th>\n",
       "      <th>sd_ratio</th>\n",
       "    </tr>\n",
       "  </thead>\n",
       "  <tbody>\n",
       "    <tr>\n",
       "      <th>0</th>\n",
       "      <td>geod</td>\n",
       "      <td>0.001</td>\n",
       "      <td>0.877210</td>\n",
       "      <td>0.136369</td>\n",
       "    </tr>\n",
       "    <tr>\n",
       "      <th>1</th>\n",
       "      <td>proj</td>\n",
       "      <td>0.001</td>\n",
       "      <td>0.684028</td>\n",
       "      <td>0.309096</td>\n",
       "    </tr>\n",
       "    <tr>\n",
       "      <th>2</th>\n",
       "      <td>geod</td>\n",
       "      <td>0.010</td>\n",
       "      <td>0.787083</td>\n",
       "      <td>0.261864</td>\n",
       "    </tr>\n",
       "    <tr>\n",
       "      <th>3</th>\n",
       "      <td>proj</td>\n",
       "      <td>0.010</td>\n",
       "      <td>0.956012</td>\n",
       "      <td>0.011409</td>\n",
       "    </tr>\n",
       "    <tr>\n",
       "      <th>4</th>\n",
       "      <td>geod</td>\n",
       "      <td>0.050</td>\n",
       "      <td>1.142657</td>\n",
       "      <td>0.115071</td>\n",
       "    </tr>\n",
       "    <tr>\n",
       "      <th>5</th>\n",
       "      <td>proj</td>\n",
       "      <td>0.050</td>\n",
       "      <td>0.566215</td>\n",
       "      <td>0.612566</td>\n",
       "    </tr>\n",
       "    <tr>\n",
       "      <th>6</th>\n",
       "      <td>geod</td>\n",
       "      <td>0.100</td>\n",
       "      <td>1.047958</td>\n",
       "      <td>0.202595</td>\n",
       "    </tr>\n",
       "    <tr>\n",
       "      <th>7</th>\n",
       "      <td>proj</td>\n",
       "      <td>0.100</td>\n",
       "      <td>0.630300</td>\n",
       "      <td>0.372140</td>\n",
       "    </tr>\n",
       "  </tbody>\n",
       "</table>\n",
       "</div>"
      ],
      "text/plain": [
       "  method    sig  mean_ratio  sd_ratio\n",
       "0   geod  0.001    0.877210  0.136369\n",
       "1   proj  0.001    0.684028  0.309096\n",
       "2   geod  0.010    0.787083  0.261864\n",
       "3   proj  0.010    0.956012  0.011409\n",
       "4   geod  0.050    1.142657  0.115071\n",
       "5   proj  0.050    0.566215  0.612566\n",
       "6   geod  0.100    1.047958  0.202595\n",
       "7   proj  0.100    0.630300  0.372140"
      ]
     },
     "execution_count": 32,
     "metadata": {},
     "output_type": "execute_result"
    }
   ],
   "source": [
    "v_ratio_dist_sum = v_ratio_dist >> group_by(X.sig, X.method) >> \\\n",
    "    summarize(mean_ratio = X.var_ratio.mean(),\n",
    "              sd_ratio = X.var_ratio.std())\n",
    "v_ratio_dist_sum"
   ]
  },
  {
   "cell_type": "code",
   "execution_count": 37,
   "id": "015f1e67",
   "metadata": {},
   "outputs": [
    {
     "name": "stderr",
     "output_type": "stream",
     "text": [
      "/opt/conda/lib/python3.7/site-packages/plotnine/ggplot.py:721: PlotnineWarning: Saving 10.0 x 10.0 cm image.\n",
      "/opt/conda/lib/python3.7/site-packages/plotnine/ggplot.py:722: PlotnineWarning: Filename: test.png\n"
     ]
    }
   ],
   "source": [
    "p = ggplot(v_ratio_dist_sum) + \\\n",
    "    aes(x = 'sig', y = 'mean_ratio', color = 'method') + \\\n",
    "    geom_line() + \\\n",
    "    labs(y = 'Var. Ratio (%)', x = r'$\\sigma^2', col = ' ')\n",
    "\n",
    "ggsave(plot=p, filename='v_ratio_dist.png', width = 10, height = 10, units = 'cm')"
   ]
  },
  {
   "cell_type": "markdown",
   "id": "1c918be6",
   "metadata": {},
   "source": [
    "## 2. Comparison of PNG and PGA"
   ]
  },
  {
   "cell_type": "code",
   "execution_count": 25,
   "id": "22b7d96d",
   "metadata": {},
   "outputs": [],
   "source": [
    "def exp2(k, s_vec):\n",
    "    #N, n, m, p = 50, 10, 5, 2\n",
    "    N, n, m, p = 10, 5, 3, 1\n",
    "    n_c = 2\n",
    "    #v_ratio_sig_PNG = np.zeros((repetition, len(s_vec), n_c))\n",
    "    #v_ratio_sig_PGA = np.zeros((repetition, len(s_vec), n_c))\n",
    "    v_ratio = pd.DataFrame(columns=['rep', 'sig', 'method', 'component', 'var_ratio'])\n",
    "    gr_low = Grassmann(m, p, N)\n",
    "    gr = Grassmann(n, p)\n",
    "    gr_map = Grassmann(n, m)\n",
    "    \n",
    "    for j, sig in enumerate(s_vec):\n",
    "        np.random.seed(12345 + j + k)\n",
    "        X_low = gr_low.rand() # N x m x p\n",
    "        A = gr_map.rand() # n x m\n",
    "        #B = np.random.normal(0, 0.1, (n, p)) # n x p\n",
    "        B = np.zeros((n,p))\n",
    "        AAT = np.matmul(A, A.T) \n",
    "        IAATB = np.matmul(np.eye(n) - AAT, B)\n",
    "        X_ = np.array([np.linalg.qr(np.matmul(A, X_low[i]) + IAATB)[0] for i in range(N)]) # N x n x p\n",
    "        X = np.array([gr.exp(X_[i], sig * gr.randvec(X_[i])) for i in range(N)]) # perturb the emdedded X\n",
    "        \n",
    "        scores_PNG = PNG(X, log = False, verbosity = 0)\n",
    "        \n",
    "        png = PCA(n_components = n_c)\n",
    "        png.fit(scores_PNG)\n",
    "        for l in range(n_c):\n",
    "            v_ratio = v_ratio.append({'rep':k,\n",
    "                            'sig':sig, \n",
    "                            'method':'PNG',\n",
    "                            'component':l+1, \n",
    "                            'var_ratio':png.explained_variance_ratio_[l]}, ignore_index = True)\n",
    "    \n",
    "        pga = PGA(X, n_c, gr)\n",
    "        for l in range(n_c):\n",
    "            v_ratio = v_ratio.append({'rep':k,\n",
    "                            'sig':sig, \n",
    "                            'method':'PGA',\n",
    "                            'component':l+1, \n",
    "                            'var_ratio':pga.explained_variance_ratio_[l]}, ignore_index = True)\n",
    "            \n",
    "    return v_ratio\n",
    "    "
   ]
  },
  {
   "cell_type": "code",
   "execution_count": 26,
   "id": "6ef22188",
   "metadata": {},
   "outputs": [],
   "source": [
    "repetition = 2\n",
    "s_vec = np.array([0.001, 0.01,0.05, 0.1])"
   ]
  },
  {
   "cell_type": "code",
   "execution_count": 29,
   "id": "d850c5ea",
   "metadata": {},
   "outputs": [],
   "source": [
    "num_cores = multiprocessing.cpu_count()\n",
    "    \n",
    "tmp = Parallel(n_jobs=num_cores)(delayed(exp2)(k, s_vec) for k in range(repetition))\n",
    "\n",
    "v_ratio = tmp[0]\n",
    "for i in range(1,repetition):\n",
    "    v_ratio = v_ratio.append(tmp[i],ignore_index=True)"
   ]
  },
  {
   "cell_type": "code",
   "execution_count": null,
   "id": "8ede9263",
   "metadata": {},
   "outputs": [],
   "source": [
    "np.save('simulation.npy', {'v_ratio_dist':v_ratio_dist, \n",
    "                           'v_ratio':v_ratio})"
   ]
  },
  {
   "cell_type": "code",
   "execution_count": null,
   "id": "c01092ba",
   "metadata": {},
   "outputs": [],
   "source": [
    "v_ratio_sum = v_ratio >> group_by(X.sig, X.method, X.component) >> \\\n",
    "    summarize(mean_ratio = X.var_ratio.mean(),\n",
    "              sd_ratio = X.var_ratio.std())\n",
    "\n",
    "v_ratio_cumsum = v_ratio_sum >> \\\n",
    "    group_by(X.sig, X.method) >> \\\n",
    "    mutate(cum_ratio = X.mean_ratio.cumsum()*100) >> \\\n",
    "    select(X.component, X.sig, X.method, X.cum_ratio)\n",
    "\n",
    "\n",
    "\n",
    "p = ggplot(v_ratio_cumsum) + \\\n",
    "    facet_wrap('sig', ncol = 2) + \\\n",
    "    aes(x = 'component', y = 'cum_ratio', color = 'method') + \\\n",
    "    geom_line() + \\\n",
    "    labs(y = 'Cum. Var. Ratio (%)', x = 'Principal Components', col = ' ')\n",
    "\n",
    "ggsave(plot=p, filename='v_ratio.png', width = 10, height = 10, units = 'cm')"
   ]
  }
 ],
 "metadata": {
  "environment": {
   "name": "r-cpu.4-0.m78",
   "type": "gcloud",
   "uri": "gcr.io/deeplearning-platform-release/r-cpu.4-0:m78"
  },
  "kernelspec": {
   "display_name": "Python 3",
   "language": "python",
   "name": "python3"
  },
  "language_info": {
   "codemirror_mode": {
    "name": "ipython",
    "version": 3
   },
   "file_extension": ".py",
   "mimetype": "text/x-python",
   "name": "python",
   "nbconvert_exporter": "python",
   "pygments_lexer": "ipython3",
   "version": "3.7.10"
  }
 },
 "nbformat": 4,
 "nbformat_minor": 5
}
