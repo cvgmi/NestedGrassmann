{
 "cells": [
  {
   "cell_type": "markdown",
   "id": "15139fd8-b908-4793-b499-78b516719ed6",
   "metadata": {},
   "source": [
    "# Simulation Studies"
   ]
  },
  {
   "cell_type": "code",
   "execution_count": 1,
   "id": "2c6dd027-51d3-4671-8c92-a80d7da44cd5",
   "metadata": {},
   "outputs": [],
   "source": [
    "import sys\n",
    "sys.path.insert(0,'..')\n",
    "from grass_DR import *\n",
    "import scipy.io\n",
    "import matplotlib.pyplot as plt\n",
    "from compute_centroid import *\n",
    "from PGA import *\n",
    "from PNG import *\n",
    "from pymanopt.solvers.linesearch import LineSearchAdaptive\n",
    "from tqdm import tqdm\n",
    "from tabulate import tabulate\n",
    "import torch"
   ]
  },
  {
   "cell_type": "markdown",
   "id": "af5fb017-1974-41e0-b675-43cec505ad7a",
   "metadata": {},
   "source": [
    "## 1. Comparison between geodesic distance and projection distance"
   ]
  },
  {
   "cell_type": "code",
   "execution_count": 2,
   "id": "6218b445-35bb-4020-a15f-8d0c775ff785",
   "metadata": {},
   "outputs": [],
   "source": [
    "p = 1\n",
    "m = 3\n",
    "n = 10\n",
    "N = 50\n",
    "repetition = 100\n",
    "s_vec = np.linspace(0.01, 0.5, 20)\n",
    "v_ratio_sig_proj = np.zeros((len(s_vec), repetition))\n",
    "v_ratio_sig_geod = np.zeros((len(s_vec), repetition))\n",
    "gr_low = Grassmann(m, p)\n",
    "gr = Grassmann(n, p)\n",
    "gr_map = Grassmann(n, m)"
   ]
  },
  {
   "cell_type": "code",
   "execution_count": 3,
   "id": "07e4bbe6-e7ca-49b7-ac43-d20a369d1b91",
   "metadata": {},
   "outputs": [
    {
     "name": "stdout",
     "output_type": "stream",
     "text": [
      "Terminated - max iterations reached after 18.78 seconds.\n",
      "\n",
      "Terminated - max iterations reached after 16.56 seconds.\n",
      "\n",
      "Terminated - max iterations reached after 17.54 seconds.\n",
      "\n",
      "Terminated - max iterations reached after 15.85 seconds.\n",
      "\n",
      "Terminated - max iterations reached after 17.23 seconds.\n",
      "\n",
      "Terminated - max iterations reached after 16.67 seconds.\n",
      "\n",
      "Terminated - max iterations reached after 18.18 seconds.\n",
      "\n",
      "Terminated - max iterations reached after 17.29 seconds.\n",
      "\n",
      "Terminated - max iterations reached after 17.34 seconds.\n",
      "\n",
      "Terminated - max iterations reached after 16.55 seconds.\n",
      "\n",
      "Terminated - max iterations reached after 18.39 seconds.\n",
      "\n",
      "Terminated - max iterations reached after 16.83 seconds.\n",
      "\n",
      "Terminated - max iterations reached after 17.94 seconds.\n",
      "\n",
      "Terminated - max iterations reached after 16.81 seconds.\n",
      "\n",
      "Terminated - max iterations reached after 18.28 seconds.\n",
      "\n",
      "Terminated - max iterations reached after 16.23 seconds.\n",
      "\n",
      "Terminated - max iterations reached after 18.30 seconds.\n",
      "\n",
      "Terminated - max iterations reached after 16.86 seconds.\n",
      "\n",
      "Terminated - max iterations reached after 17.23 seconds.\n",
      "\n",
      "Terminated - max iterations reached after 16.67 seconds.\n",
      "\n",
      "Terminated - max iterations reached after 18.02 seconds.\n",
      "\n",
      "Terminated - max iterations reached after 15.92 seconds.\n",
      "\n",
      "Terminated - max iterations reached after 18.09 seconds.\n",
      "\n",
      "Terminated - max iterations reached after 16.17 seconds.\n",
      "\n",
      "Terminated - max iterations reached after 18.60 seconds.\n",
      "\n",
      "Terminated - max iterations reached after 16.20 seconds.\n",
      "\n",
      "Terminated - min grad norm reached after 253 iterations, 4.51 seconds.\n",
      "\n",
      "Terminated - max iterations reached after 16.15 seconds.\n",
      "\n",
      "Terminated - max iterations reached after 18.02 seconds.\n",
      "\n",
      "Terminated - max iterations reached after 16.90 seconds.\n",
      "\n"
     ]
    }
   ],
   "source": [
    "for j, sig in enumerate(s_vec):\n",
    "    for k in range(repetition):\n",
    "        X_low = np.array([gr_low.rand() for i in range(N)]) # N x m x p\n",
    "        W = gr_map.rand() # n x m\n",
    "        X_ = np.array([np.matmul(W, X_low[i]) for i in range(N)]) # N x n x p\n",
    "        X = np.array([gr.exp(X_[i], sig * gr.randvec(X_[i])) for i in range(N)]) # perturb the emdedded X\n",
    "        \n",
    "        FM_X = compute_centroid(gr, X)\n",
    "        var_X = var(gr, X, FM_X)\n",
    "        \n",
    "        X_low_proj, _, _ = NG_dr(X, m, verbosity = 0)\n",
    "        X_low_geod, _, _ = NG_dr_geod(X, m, verbosity = 0)\n",
    "        \n",
    "        FM_proj = compute_centroid(gr_low, X_low_proj)\n",
    "        var_proj = var(gr_low, X_low_proj, FM_proj)\n",
    "        \n",
    "        FM_geod = compute_centroid(gr_low, X_low_geod)\n",
    "        var_geod = var(gr_low, X_low_geod, FM_geod)\n",
    "        \n",
    "        v_ratio_sig_proj[j, k] = var_proj/var_X\n",
    "        v_ratio_sig_geod[j, k] = var_geod/var_X"
   ]
  },
  {
   "cell_type": "code",
   "execution_count": null,
   "id": "2123d78d-9c17-462c-a515-9ba308fc109b",
   "metadata": {},
   "outputs": [],
   "source": [
    "plt.rcParams.update({'font.size': 16})\n",
    "plt.plot(s_vec, np.mean(v_ratio_sig_proj, axis = 1), '-', linewidth=3)\n",
    "plt.plot(s_vec, np.mean(v_ratio_sig_geod, axis = 1), '--', linewidth=3)\n",
    "plt.xlabel('$\\sigma^2$')\n",
    "plt.ylabel('Variance explained (%)')\n",
    "plt.legend(['Proj.', 'Geod.'], loc='lower left')\n",
    "plt.tight_layout()\n",
    "#plt.savefig('var_sig.pdf')\n",
    "plt.show()"
   ]
  },
  {
   "cell_type": "markdown",
   "id": "a66df2e3-2c9a-406a-97e1-6cd5b66ce322",
   "metadata": {},
   "source": [
    "## 2. Comparison of PNG and PGA"
   ]
  },
  {
   "cell_type": "code",
   "execution_count": 29,
   "id": "0bbf10fb-2314-43b5-9f8f-44197ceefbca",
   "metadata": {},
   "outputs": [],
   "source": [
    "p = 2\n",
    "m = 5\n",
    "n = 10\n",
    "N = 50\n",
    "n_c = 5\n",
    "repetition = 100\n",
    "s_vec = np.array([0.01, 0.05, 0.1, 0.5])\n",
    "v_ratio_sig_PNG = np.zeros((repetition, len(s_vec), n_c))\n",
    "v_ratio_sig_PGA = np.zeros((repetition, len(s_vec), n_c))\n",
    "gr_low = Grassmann(m, p, N)\n",
    "gr = Grassmann(n, p)\n",
    "gr_map = Grassmann(n, m)"
   ]
  },
  {
   "cell_type": "code",
   "execution_count": 30,
   "id": "3489819f-1ec0-4ef0-a167-711b59da5ac3",
   "metadata": {},
   "outputs": [],
   "source": [
    "for j, sig in enumerate(s_vec):\n",
    "    for k in range(repetition):\n",
    "        X_low = gr_low.rand() # N x m x p\n",
    "        A = gr_map.rand() # n x m\n",
    "        #B = np.random.normal(0, 0.1, (n, p)) # n x p\n",
    "        B = np.zeros((n,p))\n",
    "        AAT = np.matmul(A, A.T) \n",
    "        IAATB = np.matmul(np.eye(n) - AAT, B)\n",
    "        X_ = np.array([np.linalg.qr(np.matmul(A, X_low[i]) + IAATB)[0] for i in range(N)]) # N x n x p\n",
    "        X = np.array([gr.exp(X_[i], sig * gr.randvec(X_[i])) for i in range(N)]) # perturb the emdedded X\n",
    "        \n",
    "        scores_PNG = PNG(X, log = False, verbosity = 0)\n",
    "        \n",
    "        png = PCA(n_components = n_c)\n",
    "        png.fit(scores_PNG)\n",
    "        \n",
    "        pga = PGA(X, n_c, gr)\n",
    "        v_ratio_sig_PNG[k, j] = np.cumsum(png.explained_variance_ratio_)\n",
    "        v_ratio_sig_PGA[k, j] = np.cumsum(pga.explained_variance_ratio_)"
   ]
  },
  {
   "cell_type": "code",
   "execution_count": 35,
   "id": "0bbedf9a-0bc3-4c65-8323-b67395a47e54",
   "metadata": {},
   "outputs": [
    {
     "data": {
      "image/png": "[encoded data removed]",
      "text/plain": [
       "<Figure size 432x288 with 1 Axes>"
      ]
     },
     "metadata": {
      "needs_background": "light"
     },
     "output_type": "display_data"
    }
   ],
   "source": [
    "plt.rcParams.update({'font.size': 16})\n",
    "plt.plot(np.linspace(1,n_c, n_c), np.mean(v_ratio_sig_PNG[:,3], axis = 0), '-', linewidth=3)\n",
    "plt.plot(np.linspace(1,n_c, n_c), np.mean(v_ratio_sig_PGA[:,3], axis = 0), '--', linewidth=3)\n",
    "plt.xlabel('Principal Components')\n",
    "plt.ylabel('Cum. Var. (%)')\n",
    "plt.legend(['PNG', 'PGA'], loc='lower right')\n",
    "plt.title(r'$\\sigma^2=$'+'{}'.format(s_vec[3]))\n",
    "plt.tight_layout()\n",
    "#plt.savefig('var_sig.pdf')\n",
    "plt.show()"
   ]
  },
  {
   "cell_type": "code",
   "execution_count": null,
   "id": "714a2b23-c959-4351-89eb-029729bb2be0",
   "metadata": {},
   "outputs": [],
   "source": [
    "np.save('simulation.npy', {'ratio_proj':v_ratio_sig_proj, \n",
    "                           'ratio_geod':v_ratio_sig_geod, \n",
    "                           'ratio_PGA':v_ratio_sig_PGA, \n",
    "                           'ratio_PNG':v_ratio_sig_PNG})"
   ]
  }
 ],
 "metadata": {
  "kernelspec": {
   "display_name": "Python 3",
   "language": "python",
   "name": "python3"
  },
  "language_info": {
   "codemirror_mode": {
    "name": "ipython",
    "version": 3
   },
   "file_extension": ".py",
   "mimetype": "text/x-python",
   "name": "python",
   "nbconvert_exporter": "python",
   "pygments_lexer": "ipython3",
   "version": "3.8.8"
  }
 },
 "nbformat": 4,
 "nbformat_minor": 5
}
