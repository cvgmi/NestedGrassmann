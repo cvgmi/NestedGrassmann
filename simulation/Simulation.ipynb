{
 "cells": [
  {
   "cell_type": "markdown",
   "id": "95471486",
   "metadata": {},
   "source": [
    "# Simulation Studies"
   ]
  },
  {
   "cell_type": "code",
   "execution_count": 1,
   "id": "14214f03",
   "metadata": {},
   "outputs": [],
   "source": [
    "import sys\n",
    "sys.path.insert(0,'..')\n",
    "from dfply import *\n",
    "from grass_DR import *\n",
    "import scipy.io\n",
    "import matplotlib.pyplot as plt\n",
    "from compute_centroid import *\n",
    "from PGA import *\n",
    "from PNG import *\n",
    "import torch\n",
    "import pandas as pd\n",
    "from plotnine import *\n",
    "from joblib import Parallel, delayed\n",
    "import multiprocessing\n",
    "import numpy as np"
   ]
  },
  {
   "cell_type": "markdown",
   "id": "c1134cf7",
   "metadata": {},
   "source": [
    "## 1. Comparison between geodesic distance and projection distance"
   ]
  },
  {
   "cell_type": "code",
   "execution_count": 2,
   "id": "6818ebd3",
   "metadata": {},
   "outputs": [],
   "source": [
    "def exp1(k, s_vec):\n",
    "    N, n, m, p = 50, 10, 3, 1\n",
    "\n",
    "    v_ratio_dist = pd.DataFrame(columns=['rep', 'sig', 'method', 'var_ratio'])\n",
    "    \n",
    "    gr_low = Grassmann(m, p)\n",
    "    gr = Grassmann(n, p)\n",
    "    gr_map = Grassmann(n, m)\n",
    "    \n",
    "    for j, sig in enumerate(s_vec):\n",
    "        np.random.seed(12345 + j + k)\n",
    "        X_low = np.array([gr_low.rand() for i in range(N)]) # N x m x p\n",
    "        W = gr_map.rand() # n x m\n",
    "        X_ = np.array([np.matmul(W, X_low[i]) for i in range(N)]) # N x n x p\n",
    "        X = np.array([gr.exp(X_[i], sig * gr.randvec(X_[i])) for i in range(N)]) # perturb the emdedded X\n",
    "        \n",
    "        FM_X = compute_centroid(gr, X)\n",
    "        var_X = var(gr, X, FM_X)\n",
    "        \n",
    "        X_low_proj, _, _ = NG_dr(X, m, verbosity = 0)\n",
    "        X_low_geod, _, _ = NG_dr_geod(X, m, verbosity = 0)\n",
    "        \n",
    "        FM_proj = compute_centroid(gr_low, X_low_proj)\n",
    "        var_proj = var(gr_low, X_low_proj, FM_proj)\n",
    "        \n",
    "        FM_geod = compute_centroid(gr_low, X_low_geod)\n",
    "        var_geod = var(gr_low, X_low_geod, FM_geod)\n",
    "        \n",
    "        v_ratio_dist = v_ratio_dist.append({'rep':k,\n",
    "                            'sig':sig, \n",
    "                            'method':'geod',\n",
    "                            'var_ratio':var_geod/var_X}, ignore_index = True)\n",
    "        v_ratio_dist = v_ratio_dist.append({'rep':k,\n",
    "                            'sig':sig, \n",
    "                            'method':'proj',\n",
    "                            'var_ratio':var_proj/var_X}, ignore_index = True)\n",
    "        \n",
    "    return v_ratio_dist"
   ]
  },
  {
   "cell_type": "code",
   "execution_count": 3,
   "id": "e6278dff",
   "metadata": {},
   "outputs": [],
   "source": [
    "repetition = 100\n",
    "s_vec = np.linspace(0.5, 2, 20)"
   ]
  },
  {
   "cell_type": "code",
   "execution_count": null,
   "id": "9d4bfeb7",
   "metadata": {},
   "outputs": [],
   "source": [
    "num_cores = multiprocessing.cpu_count()\n",
    "    \n",
    "tmp = Parallel(n_jobs=num_cores)(delayed(exp1)(k, s_vec) for k in range(repetition))\n",
    "\n",
    "v_ratio_dist = tmp[0]\n",
    "for i in range(1,repetition):\n",
    "    v_ratio_dist = v_ratio_dist.append(tmp[i],ignore_index=True)\n",
    "\n",
    "np.save('v_ratio_dist.npy', {'v_ratio_dist':v_ratio_dist})"
   ]
  },
  {
   "cell_type": "markdown",
   "id": "3cdf9287",
   "metadata": {},
   "source": [
    "## 2. Comparison of PNG and PGA"
   ]
  },
  {
   "cell_type": "code",
   "execution_count": 34,
   "id": "6b001e6a",
   "metadata": {},
   "outputs": [],
   "source": [
    "def exp2(k, s_vec):\n",
    "    N, n, m, p = 50, 10, 5, 2\n",
    "    n_c = 5\n",
    "\n",
    "    v_ratio = pd.DataFrame(columns=['rep', 'sig', 'method', 'component', 'var_ratio'])\n",
    "    gr_low = Grassmann(m, p, N)\n",
    "    gr = Grassmann(n, p)\n",
    "    gr_map = Grassmann(n, m)\n",
    "    \n",
    "    for j, sig in enumerate(s_vec):\n",
    "        np.random.seed(12345 + j + k)\n",
    "        X_low = gr_low.rand() # N x m x p\n",
    "        A = gr_map.rand() # n x m\n",
    "        #B = np.random.normal(0, 0.1, (n, p)) # n x p\n",
    "        B = np.zeros((n,p))\n",
    "        AAT = np.matmul(A, A.T) \n",
    "        IAATB = np.matmul(np.eye(n) - AAT, B)\n",
    "        X_ = np.array([np.linalg.qr(np.matmul(A, X_low[i]) + IAATB)[0] for i in range(N)]) # N x n x p\n",
    "        X = np.array([gr.exp(X_[i], sig * gr.randvec(X_[i])) for i in range(N)]) # perturb the emdedded X\n",
    "        \n",
    "        scores_PNG = PNG(X, log = False, verbosity = 0)\n",
    "        \n",
    "        png = PCA(n_components = n_c)\n",
    "        png.fit(scores_PNG)\n",
    "        for l in range(n_c):\n",
    "            v_ratio = v_ratio.append({'rep':k,\n",
    "                            'sig':sig, \n",
    "                            'method':'PNG',\n",
    "                            'component':l+1, \n",
    "                            'var_ratio':png.explained_variance_ratio_[l]}, ignore_index = True)\n",
    "    \n",
    "        pga = PGA(X, n_c, gr)\n",
    "        for l in range(n_c):\n",
    "            v_ratio = v_ratio.append({'rep':k,\n",
    "                            'sig':sig, \n",
    "                            'method':'PGA',\n",
    "                            'component':l+1, \n",
    "                            'var_ratio':pga.explained_variance_ratio_[l]}, ignore_index = True)\n",
    "            \n",
    "    return v_ratio\n",
    "    "
   ]
  },
  {
   "cell_type": "code",
   "execution_count": 35,
   "id": "3d6d762f",
   "metadata": {},
   "outputs": [],
   "source": [
    "repetition = 100\n",
    "s_vec = np.array([0.01, 0.05,0.1, 0.5])"
   ]
  },
  {
   "cell_type": "code",
   "execution_count": null,
   "id": "ee74b969",
   "metadata": {},
   "outputs": [],
   "source": [
    "num_cores = multiprocessing.cpu_count()\n",
    "    \n",
    "tmp = Parallel(n_jobs=num_cores)(delayed(exp2)(k, s_vec) for k in range(repetition))\n",
    "\n",
    "v_ratio = tmp[0]\n",
    "for i in range(1,repetition):\n",
    "    v_ratio = v_ratio.append(tmp[i],ignore_index=True)"
   ]
  },
  {
   "cell_type": "code",
   "execution_count": null,
   "id": "006c066c",
   "metadata": {},
   "outputs": [],
   "source": [
    "np.save('v_ratio.npy', {'v_ratio':v_ratio})"
   ]
  }
 ],
 "metadata": {
  "environment": {
   "name": "r-cpu.4-0.m78",
   "type": "gcloud",
   "uri": "gcr.io/deeplearning-platform-release/r-cpu.4-0:m78"
  },
  "kernelspec": {
   "display_name": "Python 3",
   "language": "python",
   "name": "python3"
  },
  "language_info": {
   "codemirror_mode": {
    "name": "ipython",
    "version": 3
   },
   "file_extension": ".py",
   "mimetype": "text/x-python",
   "name": "python",
   "nbconvert_exporter": "python",
   "pygments_lexer": "ipython3",
   "version": "3.7.10"
  }
 },
 "nbformat": 4,
 "nbformat_minor": 5
}
